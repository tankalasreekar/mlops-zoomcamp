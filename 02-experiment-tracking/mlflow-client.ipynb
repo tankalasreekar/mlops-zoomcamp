{
 "cells": [
  {
   "cell_type": "code",
   "execution_count": 2,
   "id": "7e5ec680-d989-4e77-b8b9-ca6f54b91bf9",
   "metadata": {},
   "outputs": [],
   "source": [
    "from mlflow import MlflowClient"
   ]
  },
  {
   "cell_type": "code",
   "execution_count": 4,
   "id": "464a948f-a684-476a-ade8-db17b680f1a9",
   "metadata": {},
   "outputs": [],
   "source": [
    "MLFLOW_TRACKING_URI = 'sqlite:///mlflow.db'\n",
    "client = MlflowClient(tracking_uri = MLFLOW_TRACKING_URI)"
   ]
  },
  {
   "cell_type": "code",
   "execution_count": 6,
   "id": "f42f405a-425d-4aaf-b1bd-a37f7da90ffe",
   "metadata": {},
   "outputs": [
    {
     "data": {
      "text/plain": [
       "[<Experiment: artifact_location='/workspaces/mlops-zoomcamp/02-experiment-tracking/mlruns/1', creation_time=1716652795814, experiment_id='1', last_update_time=1716652795814, lifecycle_stage='active', name='nyc-green-taxi-trip-experiment', tags={}>,\n",
       " <Experiment: artifact_location='mlflow-artifacts:/0', creation_time=1716497054002, experiment_id='0', last_update_time=1716497054002, lifecycle_stage='active', name='Default', tags={}>]"
      ]
     },
     "execution_count": 6,
     "metadata": {},
     "output_type": "execute_result"
    }
   ],
   "source": [
    "client.search_experiments()"
   ]
  },
  {
   "cell_type": "code",
   "execution_count": 7,
   "id": "ca61a897-d76d-4248-be10-7e4a1a8b1345",
   "metadata": {},
   "outputs": [
    {
     "data": {
      "text/plain": [
       "'2'"
      ]
     },
     "execution_count": 7,
     "metadata": {},
     "output_type": "execute_result"
    }
   ],
   "source": [
    "client.create_experiment(name = 'test-experiment-from-jupyter')"
   ]
  },
  {
   "cell_type": "code",
   "execution_count": 21,
   "id": "1a607c91-24b9-49d7-b6d5-ae82d85fec04",
   "metadata": {},
   "outputs": [],
   "source": [
    "from mlflow.entities import ViewType, RunStatus\n",
    "\n",
    "runs = client.search_runs(\n",
    "    experiment_ids = '1',\n",
    "    filter_string = \"metrics.rmse < 10\",\n",
    "    run_view_type = ViewType.ACTIVE_ONLY,\n",
    "    max_results = 5,\n",
    "    order_by = [\"metrics.rmse ASC\"],\n",
    ")"
   ]
  },
  {
   "cell_type": "code",
   "execution_count": 22,
   "id": "4e409789-d4bd-495e-92ce-73692b6346b8",
   "metadata": {
    "scrolled": true
   },
   "outputs": [
    {
     "data": {
      "text/plain": [
       "[<Run: data=<RunData: metrics={'rmse': 5.13804046355452}, params={'learning_rate': '0.05151930425386075',\n",
       "  'max_depth': '25',\n",
       "  'min_child_weight': '2.1375707556264576',\n",
       "  'objective': 'reg:linear',\n",
       "  'reg_alpha': '0.013424620461035791',\n",
       "  'reg_lambda': '0.0025414854740249348',\n",
       "  'seed': '42'}, tags={'mlflow.log-model.history': '[{\"run_id\": \"68756514e5974066a887620da9fed491\", '\n",
       "                              '\"artifact_path\": \"models_mlflow\", '\n",
       "                              '\"utc_time_created\": \"2024-05-26 '\n",
       "                              '12:33:45.732744\", \"flavors\": {\"python_function\": '\n",
       "                              '{\"loader_module\": \"mlflow.xgboost\", '\n",
       "                              '\"python_version\": \"3.10.13\", \"data\": '\n",
       "                              '\"model.xgb\", \"env\": {\"conda\": \"conda.yaml\", '\n",
       "                              '\"virtualenv\": \"python_env.yaml\"}}, \"xgboost\": '\n",
       "                              '{\"xgb_version\": \"2.0.3\", \"data\": \"model.xgb\", '\n",
       "                              '\"model_class\": \"xgboost.core.Booster\", '\n",
       "                              '\"model_format\": \"xgb\", \"code\": null}}, '\n",
       "                              '\"model_uuid\": '\n",
       "                              '\"16725820944c4e2c8c2f12d57ac5d5c2\", '\n",
       "                              '\"mlflow_version\": \"2.13.0\", \"model_size_bytes\": '\n",
       "                              '10328846}]',\n",
       "  'mlflow.runName': 'capable-finch-921',\n",
       "  'mlflow.source.name': '/home/codespace/.local/lib/python3.10/site-packages/ipykernel_launcher.py',\n",
       "  'mlflow.source.type': 'LOCAL',\n",
       "  'mlflow.user': 'codespace'}>, info=<RunInfo: artifact_uri='/workspaces/mlops-zoomcamp/02-experiment-tracking/mlruns/1/68756514e5974066a887620da9fed491/artifacts', end_time=1716726829231, experiment_id='1', lifecycle_stage='active', run_id='68756514e5974066a887620da9fed491', run_name='capable-finch-921', run_uuid='68756514e5974066a887620da9fed491', start_time=1716726745012, status='FINISHED', user_id='codespace'>, inputs=<RunInputs: dataset_inputs=[]>>,\n",
       " <Run: data=<RunData: metrics={'rmse': 5.13804046355452}, params={'learning_rate': '0.05151930425386075',\n",
       "  'max_depth': '25',\n",
       "  'min_child_weight': '2.1375707556264576',\n",
       "  'objective': 'reg:linear',\n",
       "  'reg_alpha': '0.013424620461035791',\n",
       "  'reg_lambda': '0.0025414854740249348',\n",
       "  'seed': '42'}, tags={'mlflow.runName': 'suave-finch-238',\n",
       "  'mlflow.source.name': '/home/codespace/.local/lib/python3.10/site-packages/ipykernel_launcher.py',\n",
       "  'mlflow.source.type': 'LOCAL',\n",
       "  'mlflow.user': 'codespace',\n",
       "  'model': 'xgboost'}>, info=<RunInfo: artifact_uri='/workspaces/mlops-zoomcamp/02-experiment-tracking/mlruns/1/ed8f929dc50047cd959c23ce22d4c1d9/artifacts', end_time=1716719864277, experiment_id='1', lifecycle_stage='active', run_id='ed8f929dc50047cd959c23ce22d4c1d9', run_name='suave-finch-238', run_uuid='ed8f929dc50047cd959c23ce22d4c1d9', start_time=1716719781398, status='FINISHED', user_id='codespace'>, inputs=<RunInputs: dataset_inputs=[]>>,\n",
       " <Run: data=<RunData: metrics={'rmse': 5.138509944188145}, params={'learning_rate': '0.08712529355809479',\n",
       "  'max_depth': '15',\n",
       "  'min_child_weight': '1.189724949396893',\n",
       "  'objective': 'reg:linear',\n",
       "  'reg_alpha': '0.05265861087018914',\n",
       "  'reg_lambda': '0.005164946692153666',\n",
       "  'seed': '42'}, tags={'mlflow.runName': 'peaceful-turtle-489',\n",
       "  'mlflow.source.name': '/home/codespace/.local/lib/python3.10/site-packages/ipykernel_launcher.py',\n",
       "  'mlflow.source.type': 'LOCAL',\n",
       "  'mlflow.user': 'codespace',\n",
       "  'model': 'xgboost'}>, info=<RunInfo: artifact_uri='/workspaces/mlops-zoomcamp/02-experiment-tracking/mlruns/1/6b43c3b55c834409acbf7d55a4636965/artifacts', end_time=1716719636357, experiment_id='1', lifecycle_stage='active', run_id='6b43c3b55c834409acbf7d55a4636965', run_name='peaceful-turtle-489', run_uuid='6b43c3b55c834409acbf7d55a4636965', start_time=1716719584179, status='FINISHED', user_id='codespace'>, inputs=<RunInputs: dataset_inputs=[]>>,\n",
       " <Run: data=<RunData: metrics={'rmse': 5.1385516858667994}, params={'learning_rate': '0.0866900670665368',\n",
       "  'max_depth': '25',\n",
       "  'min_child_weight': '2.1444717057477005',\n",
       "  'objective': 'reg:linear',\n",
       "  'reg_alpha': '0.05420953493306204',\n",
       "  'reg_lambda': '0.0024815429975346675',\n",
       "  'seed': '42'}, tags={'mlflow.runName': 'carefree-wolf-126',\n",
       "  'mlflow.source.name': '/home/codespace/.local/lib/python3.10/site-packages/ipykernel_launcher.py',\n",
       "  'mlflow.source.type': 'LOCAL',\n",
       "  'mlflow.user': 'codespace',\n",
       "  'model': 'xgboost'}>, info=<RunInfo: artifact_uri='/workspaces/mlops-zoomcamp/02-experiment-tracking/mlruns/1/d49ae77fbb3a44ef9aff13dcfc70b8f6/artifacts', end_time=1716719781348, experiment_id='1', lifecycle_stage='active', run_id='d49ae77fbb3a44ef9aff13dcfc70b8f6', run_name='carefree-wolf-126', run_uuid='d49ae77fbb3a44ef9aff13dcfc70b8f6', start_time=1716719729379, status='FINISHED', user_id='codespace'>, inputs=<RunInputs: dataset_inputs=[]>>,\n",
       " <Run: data=<RunData: metrics={'rmse': 5.139178662033923}, params={'learning_rate': '0.052761687055285084',\n",
       "  'max_depth': '25',\n",
       "  'min_child_weight': '2.822351182832153',\n",
       "  'objective': 'reg:linear',\n",
       "  'reg_alpha': '0.011772538735209469',\n",
       "  'reg_lambda': '0.007225177808290427',\n",
       "  'seed': '42'}, tags={'mlflow.runName': 'merciful-squid-878',\n",
       "  'mlflow.source.name': '/home/codespace/.local/lib/python3.10/site-packages/ipykernel_launcher.py',\n",
       "  'mlflow.source.type': 'LOCAL',\n",
       "  'mlflow.user': 'codespace',\n",
       "  'model': 'xgboost'}>, info=<RunInfo: artifact_uri='/workspaces/mlops-zoomcamp/02-experiment-tracking/mlruns/1/424ec35bcc58447ca67b5b883b65c8c5/artifacts', end_time=1716719945665, experiment_id='1', lifecycle_stage='active', run_id='424ec35bcc58447ca67b5b883b65c8c5', run_name='merciful-squid-878', run_uuid='424ec35bcc58447ca67b5b883b65c8c5', start_time=1716719864318, status='FINISHED', user_id='codespace'>, inputs=<RunInputs: dataset_inputs=[]>>]"
      ]
     },
     "execution_count": 22,
     "metadata": {},
     "output_type": "execute_result"
    }
   ],
   "source": [
    "runs"
   ]
  },
  {
   "cell_type": "code",
   "execution_count": 23,
   "id": "8cb58e76-f0bb-4b67-ae76-2e1c36046c0a",
   "metadata": {},
   "outputs": [
    {
     "name": "stdout",
     "output_type": "stream",
     "text": [
      "run id: 68756514e5974066a887620da9fed491, rmse: 5.1380\n",
      "run id: ed8f929dc50047cd959c23ce22d4c1d9, rmse: 5.1380\n",
      "run id: 6b43c3b55c834409acbf7d55a4636965, rmse: 5.1385\n",
      "run id: d49ae77fbb3a44ef9aff13dcfc70b8f6, rmse: 5.1386\n",
      "run id: 424ec35bcc58447ca67b5b883b65c8c5, rmse: 5.1392\n"
     ]
    }
   ],
   "source": [
    "for run in runs:\n",
    "    print(f\"run id: {run.info.run_id}, rmse: {run.data.metrics['rmse']:.4f}\")"
   ]
  },
  {
   "cell_type": "code",
   "execution_count": null,
   "id": "9a2a55ce-c446-49b1-af89-07e8775fe8be",
   "metadata": {},
   "outputs": [],
   "source": []
  },
  {
   "cell_type": "code",
   "execution_count": 24,
   "id": "d8b90663-3918-4310-875b-8a097634e56e",
   "metadata": {},
   "outputs": [],
   "source": [
    "import mlflow\n",
    "\n",
    "mlflow.set_tracking_uri(MLFLOW_TRACKING_URI)"
   ]
  },
  {
   "cell_type": "code",
   "execution_count": 26,
   "id": "bc77a1d8-36b9-431a-838c-b58771e377dc",
   "metadata": {},
   "outputs": [
    {
     "name": "stderr",
     "output_type": "stream",
     "text": [
      "Successfully registered model 'nyc-taxi-regressor'.\n",
      "Created version '1' of model 'nyc-taxi-regressor'.\n"
     ]
    },
    {
     "data": {
      "text/plain": [
       "<ModelVersion: aliases=[], creation_timestamp=1716842126915, current_stage='None', description=None, last_updated_timestamp=1716842126915, name='nyc-taxi-regressor', run_id='68756514e5974066a887620da9fed491', run_link=None, source='/workspaces/mlops-zoomcamp/02-experiment-tracking/mlruns/1/68756514e5974066a887620da9fed491/artifacts/model', status='READY', status_message=None, tags={}, user_id=None, version=1>"
      ]
     },
     "execution_count": 26,
     "metadata": {},
     "output_type": "execute_result"
    }
   ],
   "source": [
    "run_id = \"68756514e5974066a887620da9fed491\"\n",
    "model_uri = f\"runs:/{run_id}/model\"\n",
    "\n",
    "mlflow.register_model(model_uri = model_uri, name = \"nyc-taxi-regressor\")"
   ]
  },
  {
   "cell_type": "code",
   "execution_count": null,
   "id": "002a642b-58b0-43a8-9ad2-6f276c3d226d",
   "metadata": {},
   "outputs": [],
   "source": []
  },
  {
   "cell_type": "code",
   "execution_count": null,
   "id": "1783ae76-9327-4f20-80dc-bb1de65ff52a",
   "metadata": {},
   "outputs": [],
   "source": []
  },
  {
   "cell_type": "code",
   "execution_count": null,
   "id": "42873262-629c-470e-9f03-cd6ac366fa51",
   "metadata": {},
   "outputs": [],
   "source": []
  },
  {
   "cell_type": "code",
   "execution_count": null,
   "id": "1bdf5f13-8b0e-4314-96a7-7f3977f184ee",
   "metadata": {},
   "outputs": [],
   "source": []
  },
  {
   "cell_type": "code",
   "execution_count": null,
   "id": "2eecd8f0-be8b-4db2-80f2-83ff6f305479",
   "metadata": {},
   "outputs": [],
   "source": []
  },
  {
   "cell_type": "code",
   "execution_count": null,
   "id": "fda262f4-7f8f-4a09-8f5d-787bafa07375",
   "metadata": {},
   "outputs": [],
   "source": []
  },
  {
   "cell_type": "code",
   "execution_count": null,
   "id": "b48d2b12-5125-4d4f-9716-6118e8ff5e4e",
   "metadata": {},
   "outputs": [],
   "source": []
  },
  {
   "cell_type": "code",
   "execution_count": null,
   "id": "a8fb73a8-4f8a-4b90-b0ce-89134991fbdd",
   "metadata": {},
   "outputs": [],
   "source": []
  },
  {
   "cell_type": "code",
   "execution_count": null,
   "id": "c56fd313-d558-4125-bd38-06d5abcd37e7",
   "metadata": {},
   "outputs": [],
   "source": []
  },
  {
   "cell_type": "code",
   "execution_count": null,
   "id": "db1c75de-af9d-44fd-b9a6-52a87c93d97b",
   "metadata": {},
   "outputs": [],
   "source": []
  },
  {
   "cell_type": "code",
   "execution_count": null,
   "id": "3b647d45-9e8a-4099-b570-d6a5257e44c3",
   "metadata": {},
   "outputs": [],
   "source": []
  }
 ],
 "metadata": {
  "kernelspec": {
   "display_name": "Python 3 (ipykernel)",
   "language": "python",
   "name": "python3"
  },
  "language_info": {
   "codemirror_mode": {
    "name": "ipython",
    "version": 3
   },
   "file_extension": ".py",
   "mimetype": "text/x-python",
   "name": "python",
   "nbconvert_exporter": "python",
   "pygments_lexer": "ipython3",
   "version": "3.10.13"
  }
 },
 "nbformat": 4,
 "nbformat_minor": 5
}
