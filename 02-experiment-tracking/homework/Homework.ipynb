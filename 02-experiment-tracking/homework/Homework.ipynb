{
 "cells": [
  {
   "cell_type": "markdown",
   "id": "d43e4c93-5d61-4e94-86eb-5cc49fc675e0",
   "metadata": {},
   "source": [
    "### Q1. Install MLflow\n",
    "\n",
    "What's the version that you have?"
   ]
  },
  {
   "cell_type": "code",
   "execution_count": 1,
   "id": "46b56e8f-1a05-43c3-88b8-caaad3e99317",
   "metadata": {},
   "outputs": [
    {
     "name": "stdout",
     "output_type": "stream",
     "text": [
      "mlflow, version 2.13.0\n"
     ]
    }
   ],
   "source": [
    "!mlflow --version"
   ]
  },
  {
   "cell_type": "code",
   "execution_count": null,
   "id": "4564eabd-fe32-4d91-95b8-8bbdcc714814",
   "metadata": {},
   "outputs": [],
   "source": []
  },
  {
   "cell_type": "markdown",
   "id": "b903441b-1176-4413-b350-5c952d557604",
   "metadata": {},
   "source": [
    "### Q2. Download and preprocess the data\n",
    "\n",
    "How many files were saved to OUTPUT_FOLDER?"
   ]
  },
  {
   "cell_type": "code",
   "execution_count": 2,
   "id": "90820ad0-c85b-47ab-8322-7586780b8e99",
   "metadata": {},
   "outputs": [],
   "source": [
    "# 4"
   ]
  },
  {
   "cell_type": "code",
   "execution_count": null,
   "id": "498582db-2973-45b3-81d8-394dd0b9e720",
   "metadata": {},
   "outputs": [],
   "source": []
  },
  {
   "cell_type": "markdown",
   "id": "6fc9bae0-6401-4752-bbed-1a4e01cafd01",
   "metadata": {},
   "source": [
    "### Q3. Train a model with autolog\n",
    "\n",
    "What is the value of the min_samples_split parameter:"
   ]
  },
  {
   "cell_type": "markdown",
   "id": "2e796625-8b99-4cf9-b356-fef60858daf5",
   "metadata": {},
   "source": [
    "Parameter\n",
    "Value\n",
    "bootstrap\n",
    "True\n",
    "ccp_alpha\n",
    "0.0\n",
    "criterion\n",
    "squared_error\n",
    "max_depth\n",
    "10\n",
    "max_features\n",
    "1.0\n",
    "max_leaf_nodes\n",
    "None\n",
    "max_samples\n",
    "None\n",
    "min_impurity_decrease\n",
    "0.0\n",
    "min_samples_leaf\n",
    "1\n",
    "min_samples_split\n",
    "2\n",
    "min_weight_fraction_leaf\n",
    "0.0\n",
    "monotonic_cst\n",
    "None\n",
    "n_estimators\n",
    "100\n",
    "n_jobs\n",
    "None\n",
    "oob_score\n",
    "False\n",
    "random_state\n",
    "0\n",
    "verbose\n",
    "0"
   ]
  },
  {
   "cell_type": "code",
   "execution_count": null,
   "id": "98cab0ec-a401-417d-ac81-69b90bb06720",
   "metadata": {},
   "outputs": [],
   "source": [
    "# 2"
   ]
  },
  {
   "cell_type": "code",
   "execution_count": null,
   "id": "9e1237ca-9902-4732-b4fd-109f12292a8a",
   "metadata": {},
   "outputs": [],
   "source": []
  },
  {
   "cell_type": "markdown",
   "id": "b37696de-008e-4c43-acce-ba2de8cd63aa",
   "metadata": {},
   "source": [
    "### Q4. Launch the tracking server locally\n",
    "\n",
    "In addition to backend-store-uri, what else do you need to pass to properly configure the server?\n",
    "\n",
    "- default-artifact-root\n",
    "- serve-artifacts\n",
    "- artifacts-only\n",
    "- artifacts-destination\n"
   ]
  },
  {
   "cell_type": "code",
   "execution_count": 2,
   "id": "44453c8e-9d19-4bb8-af62-fc54ee74d3c0",
   "metadata": {},
   "outputs": [],
   "source": [
    "# default-artifact-root"
   ]
  },
  {
   "cell_type": "code",
   "execution_count": null,
   "id": "70587396-4c99-4935-9ee5-be9ead4085e6",
   "metadata": {},
   "outputs": [],
   "source": []
  },
  {
   "cell_type": "markdown",
   "id": "d6594de1-fb27-4e23-85ca-70d700219e20",
   "metadata": {},
   "source": [
    "### Q5. Tune model hyperparameters\n",
    "\n",
    "What's the best validation RMSE that you got?"
   ]
  },
  {
   "cell_type": "code",
   "execution_count": null,
   "id": "8d17ff8a-8bd9-4ad9-a6bc-24fe68a0f72e",
   "metadata": {},
   "outputs": [],
   "source": [
    "# 100%|██████████████████| 15/15 [01:02<00:00,  4.14s/trial, best loss: 5.335419588556921]\n",
    "# 5.335"
   ]
  },
  {
   "cell_type": "code",
   "execution_count": null,
   "id": "c64817cd-c119-4749-8284-0eff5faf2e60",
   "metadata": {},
   "outputs": [],
   "source": []
  },
  {
   "cell_type": "markdown",
   "id": "9e66e129-f42c-497e-a6a8-8f359c3a43e8",
   "metadata": {},
   "source": [
    "### Q6. Promote the best model to the model registry\n",
    "\n",
    "What is the test RMSE of the best model?"
   ]
  },
  {
   "cell_type": "code",
   "execution_count": null,
   "id": "cdbcaf4f-1fcc-4c5a-8878-b45f29fe0624",
   "metadata": {},
   "outputs": [],
   "source": [
    "# 5.567"
   ]
  },
  {
   "cell_type": "code",
   "execution_count": null,
   "id": "ee8c6226-40c3-4cb5-bb0a-4db95af6b859",
   "metadata": {},
   "outputs": [],
   "source": []
  },
  {
   "cell_type": "code",
   "execution_count": null,
   "id": "eb75584e-a29b-4978-887e-8b45ae9d7c27",
   "metadata": {},
   "outputs": [],
   "source": []
  }
 ],
 "metadata": {
  "kernelspec": {
   "display_name": "Python 3 (ipykernel)",
   "language": "python",
   "name": "python3"
  },
  "language_info": {
   "codemirror_mode": {
    "name": "ipython",
    "version": 3
   },
   "file_extension": ".py",
   "mimetype": "text/x-python",
   "name": "python",
   "nbconvert_exporter": "python",
   "pygments_lexer": "ipython3",
   "version": "3.10.13"
  }
 },
 "nbformat": 4,
 "nbformat_minor": 5
}
